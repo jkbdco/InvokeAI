{
 "cells": [
  {
   "cell_type": "code",
   "execution_count": 1,
   "metadata": {},
   "outputs": [],
   "source": [
    "from pathlib import Path\n",
    "import sqlite3\n",
    "from uuid import uuid4\n",
    "\n",
    "# duplicate _all_ images in gallery\n",
    "\n",
    "def duplicate_images(database_path: Path, num_copies: int):\n",
    "    conn = sqlite3.connect(database_path)\n",
    "    cursor = conn.cursor()\n",
    "\n",
    "    cursor.execute(\"SELECT * FROM images\")\n",
    "    rows = cursor.fetchall()\n",
    "\n",
    "    for _ in range(num_copies):\n",
    "        for row in rows:\n",
    "            new_row = list(row)\n",
    "            new_row[0] = str(uuid4())  # image_name is the first column\n",
    "            placeholders = \", \".join(\"?\" for _ in new_row)\n",
    "            cursor.execute(f\"INSERT INTO images VALUES ({placeholders})\", new_row)\n",
    "\n",
    "    conn.commit()\n",
    "    conn.close()\n",
    "\n",
    "\n",
    "if __name__ == \"__main__\":\n",
    "    database_path = Path(\"/home/bat/invokeai-4.0.0/databases/invokeai.db\")\n",
    "    num_copies = 50\n",
    "    duplicate_images(database_path, num_copies)"
   ]
  }
 ],
 "metadata": {
  "kernelspec": {
   "display_name": ".venv",
   "language": "python",
   "name": "python3"
  },
  "language_info": {
   "codemirror_mode": {
    "name": "ipython",
    "version": 3
   },
   "file_extension": ".py",
   "mimetype": "text/x-python",
   "name": "python",
   "nbconvert_exporter": "python",
   "pygments_lexer": "ipython3",
   "version": "3.10.12"
  }
 },
 "nbformat": 4,
 "nbformat_minor": 2
}
